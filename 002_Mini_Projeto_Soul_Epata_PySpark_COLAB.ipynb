{
  "nbformat": 4,
  "nbformat_minor": 0,
  "metadata": {
    "colab": {
      "name": "002_Mini_Projeto_Soul_Epata_PySpark_COLAB.ipynb",
      "provenance": [],
      "collapsed_sections": [],
      "mount_file_id": "1J1eicP1NRfkI0A4ua7NTuAY_xxgtVAqS",
      "authorship_tag": "ABX9TyPfGKMXDTYI46BSnV0Bnj7E",
      "include_colab_link": true
    },
    "kernelspec": {
      "name": "python3",
      "display_name": "Python 3"
    },
    "language_info": {
      "name": "python"
    }
  },
  "cells": [
    {
      "cell_type": "markdown",
      "metadata": {
        "id": "view-in-github",
        "colab_type": "text"
      },
      "source": [
        "<a href=\"https://colab.research.google.com/github/victorog17/soulcode_projeto_pandas_spark/blob/main/002_Mini_Projeto_Soul_Epata_PySpark_COLAB.ipynb\" target=\"_parent\"><img src=\"https://colab.research.google.com/assets/colab-badge.svg\" alt=\"Open In Colab\"/></a>"
      ]
    },
    {
      "cell_type": "markdown",
      "metadata": {
        "id": "or0yeccCyW0i"
      },
      "source": [
        "**BIBLIOTECAS**"
      ]
    },
    {
      "cell_type": "code",
      "metadata": {
        "id": "lCvcObC6yQo7"
      },
      "source": [
        "pip install pyspark"
      ],
      "execution_count": null,
      "outputs": []
    },
    {
      "cell_type": "code",
      "metadata": {
        "id": "gT6CIQStyZ1Y"
      },
      "source": [
        "from pyspark.sql import SparkSession\n",
        "import pyspark.sql.functions as F\n",
        "from pyspark.sql.types import StructType, StructField, StringType, IntegerType, DoubleType, DateType\n",
        "from pyspark.sql.window import Window"
      ],
      "execution_count": null,
      "outputs": []
    },
    {
      "cell_type": "code",
      "metadata": {
        "colab": {
          "base_uri": "https://localhost:8080/",
          "height": 216
        },
        "id": "W594LXbwycP1",
        "outputId": "d35daa42-c225-48dc-9648-0eb2f4e4003a"
      },
      "source": [
        "spark = (SparkSession.builder\\\n",
        "        .master(\"local\")\\\n",
        "        .appName(\"dataframe_withcolumn\")\\\n",
        "        .config(\"spark.ui.port\", \"4050\")\\\n",
        "        .getOrCreate())\n",
        "spark"
      ],
      "execution_count": null,
      "outputs": [
        {
          "output_type": "execute_result",
          "data": {
            "text/html": [
              "\n",
              "            <div>\n",
              "                <p><b>SparkSession - in-memory</b></p>\n",
              "                \n",
              "        <div>\n",
              "            <p><b>SparkContext</b></p>\n",
              "\n",
              "            <p><a href=\"http://fdb949caad9c:4050\">Spark UI</a></p>\n",
              "\n",
              "            <dl>\n",
              "              <dt>Version</dt>\n",
              "                <dd><code>v3.2.0</code></dd>\n",
              "              <dt>Master</dt>\n",
              "                <dd><code>local</code></dd>\n",
              "              <dt>AppName</dt>\n",
              "                <dd><code>dataframe_withcolumn</code></dd>\n",
              "            </dl>\n",
              "        </div>\n",
              "        \n",
              "            </div>\n",
              "        "
            ],
            "text/plain": [
              "<pyspark.sql.session.SparkSession at 0x7fa01d7e1250>"
            ]
          },
          "metadata": {},
          "execution_count": 4
        }
      ]
    },
    {
      "cell_type": "markdown",
      "metadata": {
        "id": "8NkiD2euzKqh"
      },
      "source": [
        "**CRIANDO O DATAFRAME**"
      ]
    },
    {
      "cell_type": "code",
      "metadata": {
        "colab": {
          "base_uri": "https://localhost:8080/"
        },
        "id": "LpOkC_wJ_p9n",
        "outputId": "adfab3df-b998-4352-bb83-afe54c837d6a"
      },
      "source": [
        "# File location and type\n",
        "file_location = \"/content/drive/MyDrive/Soul_Code_Academy/repositorio_mini_projeto/marketing_campaign_tratado_pandas.csv\"\n",
        "#file_location = \"https://storage.googleapis.com/bucket-mini-projeto-final-soulcode-victor/arquivo_tratado_pandas/marketing_campaign_tratado_pandas.csv\"\n",
        "file_type = \"csv\"\n",
        "\n",
        "# CSV options\n",
        "infer_schema = \"false\"\n",
        "first_row_is_header = \"true\"\n",
        "delimiter = \",\"\n",
        "\n",
        "customSchema = StructType([\n",
        "    StructField(\"id\", StringType(), True),\n",
        "    StructField(\"ano_nasc\", IntegerType(), True),\n",
        "    StructField(\"educacao\", StringType(), True),\n",
        "    StructField(\"status_civil\", StringType(), True),\n",
        "    StructField(\"renda_anual\", DoubleType(), True),\n",
        "    StructField(\"qtd_crianca\", IntegerType(), True),\n",
        "    StructField(\"qtd_adolescente\", IntegerType(), True),\n",
        "    StructField(\"data_primeira_compra\", DateType(), True),\n",
        "    StructField(\"dias_ultima_compra\", IntegerType(), True),\n",
        "    StructField(\"gasto_em_vinhos\", IntegerType(), True),\n",
        "    StructField(\"gasto_em_frutas\", IntegerType(), True),\n",
        "    StructField(\"gasto_em_carnes\", IntegerType(), True),\n",
        "    StructField(\"gasto_em_peixes\", IntegerType(), True),\n",
        "    StructField(\"gasto_em_doces\", IntegerType(), True),\n",
        "    StructField(\"gasto_em_ouro\", IntegerType(), True),\n",
        "    StructField(\"num_compras_desconto\", IntegerType(), True),\n",
        "    StructField(\"num_compras_online\", IntegerType(), True),\n",
        "    StructField(\"num_compras_catalogo\", IntegerType(), True),\n",
        "    StructField(\"num_compras_loja\", IntegerType(), True),\n",
        "    StructField(\"num_visitas_online_mensal\", IntegerType(), True),\n",
        "    StructField(\"oferta_aceito3\", StringType(), True),\n",
        "    StructField(\"oferta_aceito4\", StringType(), True),\n",
        "    StructField(\"oferta_aceito5\", StringType(), True),\n",
        "    StructField(\"oferta_aceito1\", StringType(), True),\n",
        "    StructField(\"oferta_aceito2\", StringType(), True),\n",
        "    StructField(\"reclamacoes\", StringType(), True),\n",
        "    StructField(\"resposta\", StringType(), True),\n",
        "])\n",
        "\n",
        "df1 = spark.read.load(file_location, format=\"csv\", header=\"true\", sep=',', schema=customSchema)\n",
        "\n",
        "df1.show(5)\n",
        "df1.printSchema()"
      ],
      "execution_count": null,
      "outputs": [
        {
          "output_type": "stream",
          "name": "stdout",
          "text": [
            "+----+--------+---------+-------------+-----------+-----------+---------------+--------------------+------------------+---------------+---------------+---------------+---------------+--------------+-------------+--------------------+------------------+--------------------+----------------+-------------------------+--------------+--------------+--------------+--------------+--------------+-----------+--------+\n",
            "|  id|ano_nasc| educacao| status_civil|renda_anual|qtd_crianca|qtd_adolescente|data_primeira_compra|dias_ultima_compra|gasto_em_vinhos|gasto_em_frutas|gasto_em_carnes|gasto_em_peixes|gasto_em_doces|gasto_em_ouro|num_compras_desconto|num_compras_online|num_compras_catalogo|num_compras_loja|num_visitas_online_mensal|oferta_aceito3|oferta_aceito4|oferta_aceito5|oferta_aceito1|oferta_aceito2|reclamacoes|resposta|\n",
            "+----+--------+---------+-------------+-----------+-----------+---------------+--------------------+------------------+---------------+---------------+---------------+---------------+--------------+-------------+--------------------+------------------+--------------------+----------------+-------------------------+--------------+--------------+--------------+--------------+--------------+-----------+--------+\n",
            "|5524|    1957|graduacao|     solteiro|    58138.0|          0|              0|          2012-04-09|                58|            635|             88|            546|            172|            88|           88|                   3|                 8|                  10|               4|                        7|           nao|           nao|           nao|           nao|           nao|        nao|     sim|\n",
            "|2174|    1954|graduacao|     solteiro|    46344.0|          1|              1|          2014-08-03|                38|             11|              1|              6|              2|             1|            6|                   2|                 1|                   1|               2|                        5|           nao|           nao|           nao|           nao|           nao|        nao|     nao|\n",
            "|4141|    1965|graduacao|uniao_estavel|    71613.0|          0|              0|          2013-08-21|                26|            426|             49|            127|            111|            21|           42|                   1|                 8|                   2|              10|                        4|           nao|           nao|           nao|           nao|           nao|        nao|     nao|\n",
            "|6182|    1984|graduacao|uniao_estavel|    26646.0|          1|              0|          2014-10-02|                26|             11|              4|             20|             10|             3|            5|                   2|                 2|                   0|               4|                        6|           nao|           nao|           nao|           nao|           nao|        nao|     nao|\n",
            "|5324|    1981|doutorado|       casado|    58293.0|          1|              0|          2014-01-19|                94|            173|             43|            118|             46|            27|           15|                   5|                 5|                   3|               6|                        5|           nao|           nao|           nao|           nao|           nao|        nao|     nao|\n",
            "+----+--------+---------+-------------+-----------+-----------+---------------+--------------------+------------------+---------------+---------------+---------------+---------------+--------------+-------------+--------------------+------------------+--------------------+----------------+-------------------------+--------------+--------------+--------------+--------------+--------------+-----------+--------+\n",
            "only showing top 5 rows\n",
            "\n",
            "root\n",
            " |-- id: string (nullable = true)\n",
            " |-- ano_nasc: integer (nullable = true)\n",
            " |-- educacao: string (nullable = true)\n",
            " |-- status_civil: string (nullable = true)\n",
            " |-- renda_anual: double (nullable = true)\n",
            " |-- qtd_crianca: integer (nullable = true)\n",
            " |-- qtd_adolescente: integer (nullable = true)\n",
            " |-- data_primeira_compra: date (nullable = true)\n",
            " |-- dias_ultima_compra: integer (nullable = true)\n",
            " |-- gasto_em_vinhos: integer (nullable = true)\n",
            " |-- gasto_em_frutas: integer (nullable = true)\n",
            " |-- gasto_em_carnes: integer (nullable = true)\n",
            " |-- gasto_em_peixes: integer (nullable = true)\n",
            " |-- gasto_em_doces: integer (nullable = true)\n",
            " |-- gasto_em_ouro: integer (nullable = true)\n",
            " |-- num_compras_desconto: integer (nullable = true)\n",
            " |-- num_compras_online: integer (nullable = true)\n",
            " |-- num_compras_catalogo: integer (nullable = true)\n",
            " |-- num_compras_loja: integer (nullable = true)\n",
            " |-- num_visitas_online_mensal: integer (nullable = true)\n",
            " |-- oferta_aceito3: string (nullable = true)\n",
            " |-- oferta_aceito4: string (nullable = true)\n",
            " |-- oferta_aceito5: string (nullable = true)\n",
            " |-- oferta_aceito1: string (nullable = true)\n",
            " |-- oferta_aceito2: string (nullable = true)\n",
            " |-- reclamacoes: string (nullable = true)\n",
            " |-- resposta: string (nullable = true)\n",
            "\n"
          ]
        }
      ]
    },
    {
      "cell_type": "markdown",
      "metadata": {
        "id": "cKpsg772zQz1"
      },
      "source": [
        "**RENOMEANDO COLUNAS**"
      ]
    },
    {
      "cell_type": "code",
      "metadata": {
        "colab": {
          "base_uri": "https://localhost:8080/"
        },
        "id": "_SZ67_PYytdH",
        "outputId": "b78751bd-dcac-4a2e-a043-630e9d3cfaed"
      },
      "source": [
        "df1 = df1.withColumnRenamed(\"id\", \"identificacao\").withColumnRenamed(\"renda_anual\", \"salario_anual\")\n",
        "df1.printSchema()"
      ],
      "execution_count": null,
      "outputs": [
        {
          "output_type": "stream",
          "name": "stdout",
          "text": [
            "root\n",
            " |-- identificacao: string (nullable = true)\n",
            " |-- ano_nasc: integer (nullable = true)\n",
            " |-- educacao: string (nullable = true)\n",
            " |-- status_civil: string (nullable = true)\n",
            " |-- salario_anual: double (nullable = true)\n",
            " |-- qtd_crianca: integer (nullable = true)\n",
            " |-- qtd_adolescente: integer (nullable = true)\n",
            " |-- data_primeira_compra: date (nullable = true)\n",
            " |-- dias_ultima_compra: integer (nullable = true)\n",
            " |-- gasto_em_vinhos: integer (nullable = true)\n",
            " |-- gasto_em_frutas: integer (nullable = true)\n",
            " |-- gasto_em_carnes: integer (nullable = true)\n",
            " |-- gasto_em_peixes: integer (nullable = true)\n",
            " |-- gasto_em_doces: integer (nullable = true)\n",
            " |-- gasto_em_ouro: integer (nullable = true)\n",
            " |-- num_compras_desconto: integer (nullable = true)\n",
            " |-- num_compras_online: integer (nullable = true)\n",
            " |-- num_compras_catalogo: integer (nullable = true)\n",
            " |-- num_compras_loja: integer (nullable = true)\n",
            " |-- num_visitas_online_mensal: integer (nullable = true)\n",
            " |-- oferta_aceito3: string (nullable = true)\n",
            " |-- oferta_aceito4: string (nullable = true)\n",
            " |-- oferta_aceito5: string (nullable = true)\n",
            " |-- oferta_aceito1: string (nullable = true)\n",
            " |-- oferta_aceito2: string (nullable = true)\n",
            " |-- reclamacoes: string (nullable = true)\n",
            " |-- resposta: string (nullable = true)\n",
            "\n"
          ]
        }
      ]
    },
    {
      "cell_type": "markdown",
      "metadata": {
        "id": "HjUsXQ_hzXSL"
      },
      "source": [
        "**CRIANDO NOVAS VARIAVEIS**"
      ]
    },
    {
      "cell_type": "code",
      "metadata": {
        "colab": {
          "base_uri": "https://localhost:8080/"
        },
        "id": "3sIYMUBDzTYy",
        "outputId": "4e85a4b8-c30f-4299-a426-31695d38cb61"
      },
      "source": [
        "df1 = df1.withColumn(\"total_de_filhos\", F.col(\"qtd_crianca\") + F.col(\"qtd_adolescente\"))\n",
        "df1 = df1.withColumn(\"total_gasto_2anos\", \n",
        "                          F.col(\"gasto_em_vinhos\") + F.col(\"gasto_em_frutas\") + F.col(\"gasto_em_carnes\") + F.col(\"gasto_em_peixes\") +\n",
        "                          F.col(\"gasto_em_doces\") + F.col(\"gasto_em_ouro\"))\n",
        "df1.show(5)"
      ],
      "execution_count": null,
      "outputs": [
        {
          "output_type": "stream",
          "name": "stdout",
          "text": [
            "+-------------+--------+---------+-------------+-------------+-----------+---------------+--------------------+------------------+---------------+---------------+---------------+---------------+--------------+-------------+--------------------+------------------+--------------------+----------------+-------------------------+--------------+--------------+--------------+--------------+--------------+-----------+--------+---------------+-----------------+\n",
            "|identificacao|ano_nasc| educacao| status_civil|salario_anual|qtd_crianca|qtd_adolescente|data_primeira_compra|dias_ultima_compra|gasto_em_vinhos|gasto_em_frutas|gasto_em_carnes|gasto_em_peixes|gasto_em_doces|gasto_em_ouro|num_compras_desconto|num_compras_online|num_compras_catalogo|num_compras_loja|num_visitas_online_mensal|oferta_aceito3|oferta_aceito4|oferta_aceito5|oferta_aceito1|oferta_aceito2|reclamacoes|resposta|total_de_filhos|total_gasto_2anos|\n",
            "+-------------+--------+---------+-------------+-------------+-----------+---------------+--------------------+------------------+---------------+---------------+---------------+---------------+--------------+-------------+--------------------+------------------+--------------------+----------------+-------------------------+--------------+--------------+--------------+--------------+--------------+-----------+--------+---------------+-----------------+\n",
            "|         5524|    1957|graduacao|     solteiro|      58138.0|          0|              0|          2012-04-09|                58|            635|             88|            546|            172|            88|           88|                   3|                 8|                  10|               4|                        7|           nao|           nao|           nao|           nao|           nao|        nao|     sim|              0|             1617|\n",
            "|         2174|    1954|graduacao|     solteiro|      46344.0|          1|              1|          2014-08-03|                38|             11|              1|              6|              2|             1|            6|                   2|                 1|                   1|               2|                        5|           nao|           nao|           nao|           nao|           nao|        nao|     nao|              2|               27|\n",
            "|         4141|    1965|graduacao|uniao_estavel|      71613.0|          0|              0|          2013-08-21|                26|            426|             49|            127|            111|            21|           42|                   1|                 8|                   2|              10|                        4|           nao|           nao|           nao|           nao|           nao|        nao|     nao|              0|              776|\n",
            "|         6182|    1984|graduacao|uniao_estavel|      26646.0|          1|              0|          2014-10-02|                26|             11|              4|             20|             10|             3|            5|                   2|                 2|                   0|               4|                        6|           nao|           nao|           nao|           nao|           nao|        nao|     nao|              1|               53|\n",
            "|         5324|    1981|doutorado|       casado|      58293.0|          1|              0|          2014-01-19|                94|            173|             43|            118|             46|            27|           15|                   5|                 5|                   3|               6|                        5|           nao|           nao|           nao|           nao|           nao|        nao|     nao|              1|              422|\n",
            "+-------------+--------+---------+-------------+-------------+-----------+---------------+--------------------+------------------+---------------+---------------+---------------+---------------+--------------+-------------+--------------------+------------------+--------------------+----------------+-------------------------+--------------+--------------+--------------+--------------+--------------+-----------+--------+---------------+-----------------+\n",
            "only showing top 5 rows\n",
            "\n"
          ]
        }
      ]
    },
    {
      "cell_type": "markdown",
      "metadata": {
        "id": "E1QQRnOmzhio"
      },
      "source": [
        "**FILTROS E INSIGHTS**"
      ]
    },
    {
      "cell_type": "code",
      "metadata": {
        "colab": {
          "base_uri": "https://localhost:8080/"
        },
        "id": "mYx58K8Nzcnf",
        "outputId": "5b62adfa-a45d-4ec3-a20c-8677e56e307f"
      },
      "source": [
        "# a ideia aqui é mostrar como estão as faixas salariais e o número de filhos de acordo com o grau de estudos\n",
        "(df1.groupBy(F.col(\"educacao\")).agg(\n",
        "            F.round(F.mean(\"salario_anual\"), 2).alias(\"media_salario\"),\n",
        "            F.round(F.min(\"salario_anual\"), 2).alias(\"menor_salario\"),\n",
        "            F.round(F.max(\"salario_anual\"), 2).alias(\"maior_salario\"),\n",
        "            F.round(F.mean(\"total_de_filhos\"), 2).alias(\"media_de_filhos\"),\n",
        "            F.max(\"total_de_filhos\").alias(\"maior_numero_filhos\")\n",
        "            ).orderBy(\"media_salario\").show())"
      ],
      "execution_count": null,
      "outputs": [
        {
          "output_type": "stream",
          "name": "stdout",
          "text": [
            "+------------------+-------------+-------------+-------------+---------------+-------------------+\n",
            "|          educacao|media_salario|menor_salario|maior_salario|media_de_filhos|maior_numero_filhos|\n",
            "+------------------+-------------+-------------+-------------+---------------+-------------------+\n",
            "|ensino_fundamental|     20306.26|       7500.0|      34445.0|           0.72|                  2|\n",
            "|      ensino_medio|     47625.33|       7500.0|      96547.0|           0.88|                  3|\n",
            "|         graduacao|     52713.21|       1730.0|     666666.0|           0.93|                  3|\n",
            "|          mestrado|     52859.73|       6560.0|     157733.0|           0.99|                  3|\n",
            "|         doutorado|     56162.77|       4023.0|     162397.0|            1.0|                  3|\n",
            "+------------------+-------------+-------------+-------------+---------------+-------------------+\n",
            "\n"
          ]
        }
      ]
    },
    {
      "cell_type": "code",
      "metadata": {
        "colab": {
          "base_uri": "https://localhost:8080/"
        },
        "id": "OLjP64nYzkSE",
        "outputId": "27d681bd-c02a-4261-f186-4742c8c9c560"
      },
      "source": [
        "# a ideia aqui é verificar quantos doutores ganham acima de 100.000,00 ao ano\n",
        "df1.filter((F.col(\"educacao\") == 'doutorado') & (F.col(\"salario_anual\") > 100000)).show()"
      ],
      "execution_count": null,
      "outputs": [
        {
          "output_type": "stream",
          "name": "stdout",
          "text": [
            "+-------------+--------+---------+-------------+-------------+-----------+---------------+--------------------+------------------+---------------+---------------+---------------+---------------+--------------+-------------+--------------------+------------------+--------------------+----------------+-------------------------+--------------+--------------+--------------+--------------+--------------+-----------+--------+---------------+-----------------+\n",
            "|identificacao|ano_nasc| educacao| status_civil|salario_anual|qtd_crianca|qtd_adolescente|data_primeira_compra|dias_ultima_compra|gasto_em_vinhos|gasto_em_frutas|gasto_em_carnes|gasto_em_peixes|gasto_em_doces|gasto_em_ouro|num_compras_desconto|num_compras_online|num_compras_catalogo|num_compras_loja|num_visitas_online_mensal|oferta_aceito3|oferta_aceito4|oferta_aceito5|oferta_aceito1|oferta_aceito2|reclamacoes|resposta|total_de_filhos|total_gasto_2anos|\n",
            "+-------------+--------+---------+-------------+-------------+-----------+---------------+--------------------+------------------+---------------+---------------+---------------+---------------+--------------+-------------+--------------------+------------------+--------------------+----------------+-------------------------+--------------+--------------+--------------+--------------+--------------+-----------+--------+---------------+-----------------+\n",
            "|         8475|    1973|doutorado|       casado|     157243.0|          0|              1|          2014-01-03|                98|             20|              2|           1582|              1|             2|            1|                  15|                 0|                  22|               0|                        0|           nao|           nao|           nao|           nao|           nao|        nao|     nao|              1|             1608|\n",
            "|         2798|    1977|doutorado|uniao_estavel|     102160.0|          0|              0|          2012-02-11|                54|            763|             29|            138|             76|           176|           58|                   0|                 7|                   9|              10|                        4|           nao|           sim|           sim|           sim|           nao|        nao|     sim|              0|             1240|\n",
            "|         1503|    1976|doutorado|uniao_estavel|     162397.0|          1|              1|          2013-03-06|                31|             85|              1|             16|              2|             1|            2|                   0|                 0|                   0|               1|                        1|           nao|           nao|           nao|           nao|           nao|        nao|     nao|              2|              107|\n",
            "|         1501|    1982|doutorado|       casado|     160803.0|          0|              0|          2012-04-08|                21|             55|             16|           1622|             17|             3|            4|                  15|                 0|                  28|               1|                        0|           nao|           nao|           nao|           nao|           nao|        nao|     nao|              0|             1717|\n",
            "|         4619|    1945|doutorado|     solteiro|     113734.0|          0|              0|          2014-05-28|                 9|              6|              2|              3|              1|           262|            3|                   0|                27|                   0|               0|                        1|           nao|           nao|           nao|           nao|           nao|        nao|     nao|              0|              277|\n",
            "|        11181|    1949|doutorado|       casado|     156924.0|          0|              0|          2013-08-29|                85|              2|              1|              2|              1|             1|            1|                   0|                 0|                   0|               0|                        0|           nao|           nao|           nao|           nao|           nao|        nao|     nao|              0|                8|\n",
            "+-------------+--------+---------+-------------+-------------+-----------+---------------+--------------------+------------------+---------------+---------------+---------------+---------------+--------------+-------------+--------------------+------------------+--------------------+----------------+-------------------------+--------------+--------------+--------------+--------------+--------------+-----------+--------+---------------+-----------------+\n",
            "\n"
          ]
        }
      ]
    },
    {
      "cell_type": "code",
      "metadata": {
        "colab": {
          "base_uri": "https://localhost:8080/"
        },
        "id": "-UsfExjSzpRS",
        "outputId": "30e9eada-e6c6-4ae6-c22c-d0c23debd255"
      },
      "source": [
        "# a ideia aqui é mostrar como estão as faixas salariais e o número de filhos de acordo com o status civil\n",
        "(df1.groupBy(F.col(\"status_civil\")).agg(\n",
        "            F.round(F.mean(\"salario_anual\"), 2).alias(\"media_salario\"),\n",
        "            F.round(F.min(\"salario_anual\"), 2).alias(\"menor_salario\"),\n",
        "            F.round(F.max(\"salario_anual\"), 2).alias(\"maior_salario\"),\n",
        "            F.round(F.mean(\"total_de_filhos\"), 2).alias(\"media_de_filhos\"),\n",
        "            F.max(\"total_de_filhos\").alias(\"maior_numero_filhos\")\n",
        "            ).orderBy(\"media_salario\").show())"
      ],
      "execution_count": null,
      "outputs": [
        {
          "output_type": "stream",
          "name": "stdout",
          "text": [
            "+-------------+-------------+-------------+-------------+---------------+-------------------+\n",
            "| status_civil|media_salario|menor_salario|maior_salario|media_de_filhos|maior_numero_filhos|\n",
            "+-------------+-------------+-------------+-------------+---------------+-------------------+\n",
            "|     solteiro|      50975.8|       3502.0|     113734.0|           0.86|                  3|\n",
            "|       casado|     51724.98|       2447.0|     160803.0|           0.96|                  3|\n",
            "|   divorciado|     52904.33|       1730.0|     153924.0|            1.0|                  3|\n",
            "|uniao_estavel|     53192.59|       5648.0|     666666.0|           0.98|                  3|\n",
            "|        viuvo|     56481.55|      22123.0|      85620.0|           0.88|                  2|\n",
            "+-------------+-------------+-------------+-------------+---------------+-------------------+\n",
            "\n"
          ]
        }
      ]
    },
    {
      "cell_type": "code",
      "metadata": {
        "colab": {
          "base_uri": "https://localhost:8080/"
        },
        "id": "YNvi7LdgzuYk",
        "outputId": "329d3570-88d4-4da4-aeb6-bf39c8cd3df8"
      },
      "source": [
        "# aqui a ideia é ver a média salarial daquels que não tem filhos de acordo com o status civil\n",
        "(df1.groupBy(F.col(\"educacao\"), F.col(\"total_de_filhos\")).mean(\"salario_anual\").where(F.col(\"total_de_filhos\") == 0).show())"
      ],
      "execution_count": null,
      "outputs": [
        {
          "output_type": "stream",
          "name": "stdout",
          "text": [
            "+------------------+---------------+------------------+\n",
            "|          educacao|total_de_filhos|avg(salario_anual)|\n",
            "+------------------+---------------+------------------+\n",
            "|      ensino_medio|              0| 57842.15873015873|\n",
            "|         graduacao|              0| 66367.69278996866|\n",
            "|         doutorado|              0| 72354.37121212122|\n",
            "|          mestrado|              0| 66971.70707070707|\n",
            "|ensino_fundamental|              0|21590.235294117647|\n",
            "+------------------+---------------+------------------+\n",
            "\n"
          ]
        }
      ]
    },
    {
      "cell_type": "markdown",
      "metadata": {
        "id": "dptizU1jz2Nc"
      },
      "source": [
        "**WINDOW FUNCTIONS**"
      ]
    },
    {
      "cell_type": "code",
      "metadata": {
        "colab": {
          "base_uri": "https://localhost:8080/"
        },
        "id": "gYEIzzhEzy_g",
        "outputId": "db7bd8ac-5694-44a1-f6b6-11aac40e7dc8"
      },
      "source": [
        "w0 = Window.orderBy(F.col(\"ano_nasc\"))\n",
        "df2 = df1.withColumn(\"rank\", F.row_number().over(w0))\n",
        "df2.select(F.col(\"identificacao\"), F.col(\"ano_nasc\"), F.col(\"status_civil\"), F.col(\"total_de_filhos\") , F.col(\"rank\")).show(10)"
      ],
      "execution_count": null,
      "outputs": [
        {
          "output_type": "stream",
          "name": "stdout",
          "text": [
            "+-------------+--------+------------+---------------+----+\n",
            "|identificacao|ano_nasc|status_civil|total_de_filhos|rank|\n",
            "+-------------+--------+------------+---------------+----+\n",
            "|         6663|    1940|    solteiro|              0|   1|\n",
            "|         6932|    1941|      casado|              0|   2|\n",
            "|         6142|    1943|      casado|              0|   3|\n",
            "|         7106|    1943|      casado|              0|   4|\n",
            "|         2968|    1943|  divorciado|              0|   5|\n",
            "|         8800|    1943|  divorciado|              0|   6|\n",
            "|         1453|    1943|       viuvo|              0|   7|\n",
            "|         4994|    1943|    solteiro|              0|   8|\n",
            "|         4587|    1944|       viuvo|              0|   9|\n",
            "|         6605|    1944|  divorciado|              0|  10|\n",
            "+-------------+--------+------------+---------------+----+\n",
            "only showing top 10 rows\n",
            "\n"
          ]
        }
      ]
    },
    {
      "cell_type": "code",
      "metadata": {
        "colab": {
          "base_uri": "https://localhost:8080/"
        },
        "id": "JNEeVBW4z6CK",
        "outputId": "b2b31fc5-4330-47ba-ae0a-a8bbc8d04dce"
      },
      "source": [
        "w1 = Window.partitionBy(F.col(\"status_civil\")).orderBy(F.col(\"total_gasto_2anos\").desc())\n",
        "df3 = df1.withColumn(\"dense_rank\", F.dense_rank().over(w1))\n",
        "df3.select(F.col(\"educacao\"), F.col(\"salario_anual\"), F.col(\"resposta\"), F.col(\"total_gasto_2anos\"), F.col(\"dense_rank\")).show(10)"
      ],
      "execution_count": null,
      "outputs": [
        {
          "output_type": "stream",
          "name": "stdout",
          "text": [
            "+---------+-------------+--------+-----------------+----------+\n",
            "| educacao|salario_anual|resposta|total_gasto_2anos|dense_rank|\n",
            "+---------+-------------+--------+-----------------+----------+\n",
            "|graduacao|      75759.0|     sim|             2486|         1|\n",
            "|doutorado|      69098.0|     nao|             2440|         2|\n",
            "| mestrado|      90226.0|     nao|             2352|         3|\n",
            "| mestrado|      83151.0|     sim|             2346|         4|\n",
            "|doutorado|      80360.0|     nao|             2231|         5|\n",
            "|graduacao|      94642.0|     nao|             2211|         6|\n",
            "|graduacao|      83512.0|     sim|             2157|         7|\n",
            "|graduacao|      78618.0|     nao|             2153|         8|\n",
            "|doutorado|      67546.0|     nao|             2126|         9|\n",
            "|doutorado|      67546.0|     nao|             2126|         9|\n",
            "+---------+-------------+--------+-----------------+----------+\n",
            "only showing top 10 rows\n",
            "\n"
          ]
        }
      ]
    },
    {
      "cell_type": "markdown",
      "metadata": {
        "id": "O3esxxYpHbSr"
      },
      "source": [
        "**SALVANDO ARQUIVO NO DRIVE**"
      ]
    },
    {
      "cell_type": "code",
      "metadata": {
        "id": "PSXnTou30Aet"
      },
      "source": [
        "#df1.write.format(\"com.databricks.spark.csv\").option(\"header\", \"true\")\\\n",
        "#                                            .option(\"inferschema\", \"true\")\\\n",
        "#                                            .option(\"delimiter\", \",\")\\\n",
        "#                                            .save(\"/content/drive/MyDrive/Soul_Code_Academy/repositorio_mini_projeto/marketing_campaign_tratado_pyspark.csv\")"
      ],
      "execution_count": null,
      "outputs": []
    },
    {
      "cell_type": "code",
      "metadata": {
        "id": "R8uo8nc60dDj"
      },
      "source": [
        ""
      ],
      "execution_count": null,
      "outputs": []
    }
  ]
}