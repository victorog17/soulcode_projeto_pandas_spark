{
  "nbformat": 4,
  "nbformat_minor": 0,
  "metadata": {
    "colab": {
      "name": "001_Mini_Projeto_Soul_Epata_Pandas_COLAB.ipynb",
      "provenance": [],
      "collapsed_sections": [],
      "mount_file_id": "1V533vDEp1LYPVk2XerCahs_50zjI9tbO",
      "authorship_tag": "ABX9TyNkqlZQk1RMTyuuuGGelTuu",
      "include_colab_link": true
    },
    "kernelspec": {
      "name": "python3",
      "display_name": "Python 3"
    },
    "language_info": {
      "name": "python"
    }
  },
  "cells": [
    {
      "cell_type": "markdown",
      "metadata": {
        "id": "view-in-github",
        "colab_type": "text"
      },
      "source": [
        "<a href=\"https://colab.research.google.com/github/victorog17/soulcode_projeto_pandas_spark/blob/main/001_Mini_Projeto_Soul_Epata_Pandas_COLAB.ipynb\" target=\"_parent\"><img src=\"https://colab.research.google.com/assets/colab-badge.svg\" alt=\"Open In Colab\"/></a>"
      ]
    },
    {
      "cell_type": "markdown",
      "metadata": {
        "id": "i4CY2Zr0eklE"
      },
      "source": [
        "# **0. IMPORTS**"
      ]
    },
    {
      "cell_type": "markdown",
      "metadata": {
        "id": "vYwUGHhFYusW"
      },
      "source": [
        "**BIBLIOTECAS**"
      ]
    },
    {
      "cell_type": "code",
      "metadata": {
        "id": "6Br8EbdWsmOv"
      },
      "source": [
        "import pandas as pd\n",
        "import numpy as np"
      ],
      "execution_count": null,
      "outputs": []
    },
    {
      "cell_type": "markdown",
      "metadata": {
        "id": "35KatkdlYz0V"
      },
      "source": [
        "**CARREGANDO DATASET**"
      ]
    },
    {
      "cell_type": "code",
      "metadata": {
        "colab": {
          "base_uri": "https://localhost:8080/",
          "height": 224
        },
        "id": "XA1Q0DM0tSmF",
        "outputId": "e71fb9ba-2819-4acf-e604-a2c0ced7cd95"
      },
      "source": [
        "df = pd.read_csv('https://storage.googleapis.com/bucket-mini-projeto-final-soulcode-victor/base_de_dados/marketing_campaign.csv', sep=',')\n",
        "df.head()"
      ],
      "execution_count": null,
      "outputs": [
        {
          "output_type": "execute_result",
          "data": {
            "text/html": [
              "<div>\n",
              "<style scoped>\n",
              "    .dataframe tbody tr th:only-of-type {\n",
              "        vertical-align: middle;\n",
              "    }\n",
              "\n",
              "    .dataframe tbody tr th {\n",
              "        vertical-align: top;\n",
              "    }\n",
              "\n",
              "    .dataframe thead th {\n",
              "        text-align: right;\n",
              "    }\n",
              "</style>\n",
              "<table border=\"1\" class=\"dataframe\">\n",
              "  <thead>\n",
              "    <tr style=\"text-align: right;\">\n",
              "      <th></th>\n",
              "      <th>ID</th>\n",
              "      <th>Year_Birth</th>\n",
              "      <th>Education</th>\n",
              "      <th>Marital_Status</th>\n",
              "      <th>Income</th>\n",
              "      <th>Kidhome</th>\n",
              "      <th>Teenhome</th>\n",
              "      <th>Dt_Customer</th>\n",
              "      <th>Recency</th>\n",
              "      <th>MntWines</th>\n",
              "      <th>MntFruits</th>\n",
              "      <th>MntMeatProducts</th>\n",
              "      <th>MntFishProducts</th>\n",
              "      <th>MntSweetProducts</th>\n",
              "      <th>MntGoldProds</th>\n",
              "      <th>NumDealsPurchases</th>\n",
              "      <th>NumWebPurchases</th>\n",
              "      <th>NumCatalogPurchases</th>\n",
              "      <th>NumStorePurchases</th>\n",
              "      <th>NumWebVisitsMonth</th>\n",
              "      <th>AcceptedCmp3</th>\n",
              "      <th>AcceptedCmp4</th>\n",
              "      <th>AcceptedCmp5</th>\n",
              "      <th>AcceptedCmp1</th>\n",
              "      <th>AcceptedCmp2</th>\n",
              "      <th>Complain</th>\n",
              "      <th>Z_CostContact</th>\n",
              "      <th>Z_Revenue</th>\n",
              "      <th>Response</th>\n",
              "    </tr>\n",
              "  </thead>\n",
              "  <tbody>\n",
              "    <tr>\n",
              "      <th>0</th>\n",
              "      <td>5524</td>\n",
              "      <td>1957</td>\n",
              "      <td>Graduation</td>\n",
              "      <td>Single</td>\n",
              "      <td>58138.0</td>\n",
              "      <td>0</td>\n",
              "      <td>0</td>\n",
              "      <td>04-09-2012</td>\n",
              "      <td>58</td>\n",
              "      <td>635</td>\n",
              "      <td>88</td>\n",
              "      <td>546</td>\n",
              "      <td>172</td>\n",
              "      <td>88</td>\n",
              "      <td>88</td>\n",
              "      <td>3</td>\n",
              "      <td>8</td>\n",
              "      <td>10</td>\n",
              "      <td>4</td>\n",
              "      <td>7</td>\n",
              "      <td>0</td>\n",
              "      <td>0</td>\n",
              "      <td>0</td>\n",
              "      <td>0</td>\n",
              "      <td>0</td>\n",
              "      <td>0</td>\n",
              "      <td>3</td>\n",
              "      <td>11</td>\n",
              "      <td>1</td>\n",
              "    </tr>\n",
              "    <tr>\n",
              "      <th>1</th>\n",
              "      <td>2174</td>\n",
              "      <td>1954</td>\n",
              "      <td>Graduation</td>\n",
              "      <td>Single</td>\n",
              "      <td>46344.0</td>\n",
              "      <td>1</td>\n",
              "      <td>1</td>\n",
              "      <td>08-03-2014</td>\n",
              "      <td>38</td>\n",
              "      <td>11</td>\n",
              "      <td>1</td>\n",
              "      <td>6</td>\n",
              "      <td>2</td>\n",
              "      <td>1</td>\n",
              "      <td>6</td>\n",
              "      <td>2</td>\n",
              "      <td>1</td>\n",
              "      <td>1</td>\n",
              "      <td>2</td>\n",
              "      <td>5</td>\n",
              "      <td>0</td>\n",
              "      <td>0</td>\n",
              "      <td>0</td>\n",
              "      <td>0</td>\n",
              "      <td>0</td>\n",
              "      <td>0</td>\n",
              "      <td>3</td>\n",
              "      <td>11</td>\n",
              "      <td>0</td>\n",
              "    </tr>\n",
              "    <tr>\n",
              "      <th>2</th>\n",
              "      <td>4141</td>\n",
              "      <td>1965</td>\n",
              "      <td>Graduation</td>\n",
              "      <td>Together</td>\n",
              "      <td>71613.0</td>\n",
              "      <td>0</td>\n",
              "      <td>0</td>\n",
              "      <td>21-08-2013</td>\n",
              "      <td>26</td>\n",
              "      <td>426</td>\n",
              "      <td>49</td>\n",
              "      <td>127</td>\n",
              "      <td>111</td>\n",
              "      <td>21</td>\n",
              "      <td>42</td>\n",
              "      <td>1</td>\n",
              "      <td>8</td>\n",
              "      <td>2</td>\n",
              "      <td>10</td>\n",
              "      <td>4</td>\n",
              "      <td>0</td>\n",
              "      <td>0</td>\n",
              "      <td>0</td>\n",
              "      <td>0</td>\n",
              "      <td>0</td>\n",
              "      <td>0</td>\n",
              "      <td>3</td>\n",
              "      <td>11</td>\n",
              "      <td>0</td>\n",
              "    </tr>\n",
              "    <tr>\n",
              "      <th>3</th>\n",
              "      <td>6182</td>\n",
              "      <td>1984</td>\n",
              "      <td>Graduation</td>\n",
              "      <td>Together</td>\n",
              "      <td>26646.0</td>\n",
              "      <td>1</td>\n",
              "      <td>0</td>\n",
              "      <td>10-02-2014</td>\n",
              "      <td>26</td>\n",
              "      <td>11</td>\n",
              "      <td>4</td>\n",
              "      <td>20</td>\n",
              "      <td>10</td>\n",
              "      <td>3</td>\n",
              "      <td>5</td>\n",
              "      <td>2</td>\n",
              "      <td>2</td>\n",
              "      <td>0</td>\n",
              "      <td>4</td>\n",
              "      <td>6</td>\n",
              "      <td>0</td>\n",
              "      <td>0</td>\n",
              "      <td>0</td>\n",
              "      <td>0</td>\n",
              "      <td>0</td>\n",
              "      <td>0</td>\n",
              "      <td>3</td>\n",
              "      <td>11</td>\n",
              "      <td>0</td>\n",
              "    </tr>\n",
              "    <tr>\n",
              "      <th>4</th>\n",
              "      <td>5324</td>\n",
              "      <td>1981</td>\n",
              "      <td>PhD</td>\n",
              "      <td>Married</td>\n",
              "      <td>58293.0</td>\n",
              "      <td>1</td>\n",
              "      <td>0</td>\n",
              "      <td>19-01-2014</td>\n",
              "      <td>94</td>\n",
              "      <td>173</td>\n",
              "      <td>43</td>\n",
              "      <td>118</td>\n",
              "      <td>46</td>\n",
              "      <td>27</td>\n",
              "      <td>15</td>\n",
              "      <td>5</td>\n",
              "      <td>5</td>\n",
              "      <td>3</td>\n",
              "      <td>6</td>\n",
              "      <td>5</td>\n",
              "      <td>0</td>\n",
              "      <td>0</td>\n",
              "      <td>0</td>\n",
              "      <td>0</td>\n",
              "      <td>0</td>\n",
              "      <td>0</td>\n",
              "      <td>3</td>\n",
              "      <td>11</td>\n",
              "      <td>0</td>\n",
              "    </tr>\n",
              "  </tbody>\n",
              "</table>\n",
              "</div>"
            ],
            "text/plain": [
              "     ID  Year_Birth   Education  ... Z_CostContact  Z_Revenue  Response\n",
              "0  5524        1957  Graduation  ...             3         11         1\n",
              "1  2174        1954  Graduation  ...             3         11         0\n",
              "2  4141        1965  Graduation  ...             3         11         0\n",
              "3  6182        1984  Graduation  ...             3         11         0\n",
              "4  5324        1981         PhD  ...             3         11         0\n",
              "\n",
              "[5 rows x 29 columns]"
            ]
          },
          "metadata": {},
          "execution_count": 2
        }
      ]
    },
    {
      "cell_type": "markdown",
      "metadata": {
        "id": "gSlby14CZD0O"
      },
      "source": [
        "# **1. DESCRIÇÃO DOS DADOS**"
      ]
    },
    {
      "cell_type": "code",
      "metadata": {
        "colab": {
          "base_uri": "https://localhost:8080/"
        },
        "id": "BwzBQ4mQvDLD",
        "outputId": "bbbcdc77-399e-471c-ac47-18e22712a6be"
      },
      "source": [
        "df.info()"
      ],
      "execution_count": null,
      "outputs": [
        {
          "output_type": "stream",
          "name": "stdout",
          "text": [
            "<class 'pandas.core.frame.DataFrame'>\n",
            "RangeIndex: 2240 entries, 0 to 2239\n",
            "Data columns (total 29 columns):\n",
            " #   Column               Non-Null Count  Dtype  \n",
            "---  ------               --------------  -----  \n",
            " 0   ID                   2240 non-null   int64  \n",
            " 1   Year_Birth           2240 non-null   int64  \n",
            " 2   Education            2240 non-null   object \n",
            " 3   Marital_Status       2240 non-null   object \n",
            " 4   Income               2216 non-null   float64\n",
            " 5   Kidhome              2240 non-null   int64  \n",
            " 6   Teenhome             2240 non-null   int64  \n",
            " 7   Dt_Customer          2240 non-null   object \n",
            " 8   Recency              2240 non-null   int64  \n",
            " 9   MntWines             2240 non-null   int64  \n",
            " 10  MntFruits            2240 non-null   int64  \n",
            " 11  MntMeatProducts      2240 non-null   int64  \n",
            " 12  MntFishProducts      2240 non-null   int64  \n",
            " 13  MntSweetProducts     2240 non-null   int64  \n",
            " 14  MntGoldProds         2240 non-null   int64  \n",
            " 15  NumDealsPurchases    2240 non-null   int64  \n",
            " 16  NumWebPurchases      2240 non-null   int64  \n",
            " 17  NumCatalogPurchases  2240 non-null   int64  \n",
            " 18  NumStorePurchases    2240 non-null   int64  \n",
            " 19  NumWebVisitsMonth    2240 non-null   int64  \n",
            " 20  AcceptedCmp3         2240 non-null   int64  \n",
            " 21  AcceptedCmp4         2240 non-null   int64  \n",
            " 22  AcceptedCmp5         2240 non-null   int64  \n",
            " 23  AcceptedCmp1         2240 non-null   int64  \n",
            " 24  AcceptedCmp2         2240 non-null   int64  \n",
            " 25  Complain             2240 non-null   int64  \n",
            " 26  Z_CostContact        2240 non-null   int64  \n",
            " 27  Z_Revenue            2240 non-null   int64  \n",
            " 28  Response             2240 non-null   int64  \n",
            "dtypes: float64(1), int64(25), object(3)\n",
            "memory usage: 507.6+ KB\n"
          ]
        }
      ]
    },
    {
      "cell_type": "markdown",
      "metadata": {
        "id": "jcDbKs0bZJzp"
      },
      "source": [
        "**VERIFICANDO NOMES DAS COLUNAS**"
      ]
    },
    {
      "cell_type": "code",
      "metadata": {
        "colab": {
          "base_uri": "https://localhost:8080/"
        },
        "id": "S5RG_IUhxSf1",
        "outputId": "ebc02f5f-ad2e-4227-e2ce-6b28becc4fb6"
      },
      "source": [
        "df.columns"
      ],
      "execution_count": null,
      "outputs": [
        {
          "output_type": "execute_result",
          "data": {
            "text/plain": [
              "Index(['ID', 'Year_Birth', 'Education', 'Marital_Status', 'Income', 'Kidhome',\n",
              "       'Teenhome', 'Dt_Customer', 'Recency', 'MntWines', 'MntFruits',\n",
              "       'MntMeatProducts', 'MntFishProducts', 'MntSweetProducts',\n",
              "       'MntGoldProds', 'NumDealsPurchases', 'NumWebPurchases',\n",
              "       'NumCatalogPurchases', 'NumStorePurchases', 'NumWebVisitsMonth',\n",
              "       'AcceptedCmp3', 'AcceptedCmp4', 'AcceptedCmp5', 'AcceptedCmp1',\n",
              "       'AcceptedCmp2', 'Complain', 'Z_CostContact', 'Z_Revenue', 'Response'],\n",
              "      dtype='object')"
            ]
          },
          "metadata": {},
          "execution_count": 4
        }
      ]
    },
    {
      "cell_type": "markdown",
      "metadata": {
        "id": "CO5AExfiexf-"
      },
      "source": [
        "**Criando listas com os nomes originais das colunas e os novos nomes a serem substituidos**"
      ]
    },
    {
      "cell_type": "code",
      "metadata": {
        "id": "HEkesMht0C6M"
      },
      "source": [
        "col_originais = ['ID', 'Year_Birth', 'Education', 'Marital_Status', 'Income', 'Kidhome',\n",
        "       'Teenhome', 'Dt_Customer', 'Recency', 'MntWines', 'MntFruits',\n",
        "       'MntMeatProducts', 'MntFishProducts', 'MntSweetProducts',\n",
        "       'MntGoldProds', 'NumDealsPurchases', 'NumWebPurchases',\n",
        "       'NumCatalogPurchases', 'NumStorePurchases', 'NumWebVisitsMonth',\n",
        "       'AcceptedCmp3', 'AcceptedCmp4', 'AcceptedCmp5', 'AcceptedCmp1',\n",
        "       'AcceptedCmp2', 'Complain', 'Z_CostContact', 'Z_Revenue', 'Response']\n",
        "\n",
        "col_novas = ['id', 'ano_nasc', 'educacao', 'status_civil', 'renda_anual', 'qtd_crianca',\n",
        "        'qtd_adolescente', 'data_primeira_compra', 'dias_ultima_compra', 'gasto_em_vinhos', 'gasto_em_frutas',\n",
        "        'gasto_em_carnes', 'gasto_em_peixes', 'gasto_em_doces', 'gasto_em_ouro', 'num_compras_desconto',\n",
        "        'num_compras_online', 'num_compras_catalogo', 'num_compras_loja', 'num_visitas_online_mensal',\n",
        "        'oferta_aceito3', 'oferta_aceito4', 'oferta_aceito5', 'oferta_aceito1', 'oferta_aceito2',\n",
        "        'reclamacoes', 'z_custo_contato', 'z_receita', 'resposta']"
      ],
      "execution_count": null,
      "outputs": []
    },
    {
      "cell_type": "markdown",
      "metadata": {
        "id": "TzV0dSDRfHhz"
      },
      "source": [
        "# **2. INICIO MODIFICAÇÕES**"
      ]
    },
    {
      "cell_type": "code",
      "metadata": {
        "id": "M5glZrz23HSu"
      },
      "source": [
        "df2 = df.copy()"
      ],
      "execution_count": null,
      "outputs": []
    },
    {
      "cell_type": "markdown",
      "metadata": {
        "id": "BLccGWGCfx41"
      },
      "source": [
        "**RENOMEANDO AS COLUNAS**"
      ]
    },
    {
      "cell_type": "code",
      "metadata": {
        "id": "OVlAxe3I9_zX"
      },
      "source": [
        "df2.columns = col_novas"
      ],
      "execution_count": null,
      "outputs": []
    },
    {
      "cell_type": "code",
      "metadata": {
        "colab": {
          "base_uri": "https://localhost:8080/",
          "height": 100
        },
        "id": "Nn2zFBJZ-Bfg",
        "outputId": "dfc3f97b-a41e-4fd5-b7c6-2328ba0ae514"
      },
      "source": [
        "df2.sample()"
      ],
      "execution_count": null,
      "outputs": [
        {
          "output_type": "execute_result",
          "data": {
            "text/html": [
              "<div>\n",
              "<style scoped>\n",
              "    .dataframe tbody tr th:only-of-type {\n",
              "        vertical-align: middle;\n",
              "    }\n",
              "\n",
              "    .dataframe tbody tr th {\n",
              "        vertical-align: top;\n",
              "    }\n",
              "\n",
              "    .dataframe thead th {\n",
              "        text-align: right;\n",
              "    }\n",
              "</style>\n",
              "<table border=\"1\" class=\"dataframe\">\n",
              "  <thead>\n",
              "    <tr style=\"text-align: right;\">\n",
              "      <th></th>\n",
              "      <th>id</th>\n",
              "      <th>ano_nasc</th>\n",
              "      <th>educacao</th>\n",
              "      <th>status_civil</th>\n",
              "      <th>renda_anual</th>\n",
              "      <th>qtd_crianca</th>\n",
              "      <th>qtd_adolescente</th>\n",
              "      <th>data_primeira_compra</th>\n",
              "      <th>dias_ultima_compra</th>\n",
              "      <th>gasto_em_vinhos</th>\n",
              "      <th>gasto_em_frutas</th>\n",
              "      <th>gasto_em_carnes</th>\n",
              "      <th>gasto_em_peixes</th>\n",
              "      <th>gasto_em_doces</th>\n",
              "      <th>gasto_em_ouro</th>\n",
              "      <th>num_compras_desconto</th>\n",
              "      <th>num_compras_online</th>\n",
              "      <th>num_compras_catalogo</th>\n",
              "      <th>num_compras_loja</th>\n",
              "      <th>num_visitas_online_mensal</th>\n",
              "      <th>oferta_aceito3</th>\n",
              "      <th>oferta_aceito4</th>\n",
              "      <th>oferta_aceito5</th>\n",
              "      <th>oferta_aceito1</th>\n",
              "      <th>oferta_aceito2</th>\n",
              "      <th>reclamacoes</th>\n",
              "      <th>z_custo_contato</th>\n",
              "      <th>z_receita</th>\n",
              "      <th>resposta</th>\n",
              "    </tr>\n",
              "  </thead>\n",
              "  <tbody>\n",
              "    <tr>\n",
              "      <th>441</th>\n",
              "      <td>7495</td>\n",
              "      <td>1948</td>\n",
              "      <td>PhD</td>\n",
              "      <td>Married</td>\n",
              "      <td>56223.0</td>\n",
              "      <td>0</td>\n",
              "      <td>1</td>\n",
              "      <td>20-12-2013</td>\n",
              "      <td>72</td>\n",
              "      <td>77</td>\n",
              "      <td>28</td>\n",
              "      <td>31</td>\n",
              "      <td>16</td>\n",
              "      <td>0</td>\n",
              "      <td>4</td>\n",
              "      <td>2</td>\n",
              "      <td>2</td>\n",
              "      <td>1</td>\n",
              "      <td>5</td>\n",
              "      <td>4</td>\n",
              "      <td>0</td>\n",
              "      <td>0</td>\n",
              "      <td>0</td>\n",
              "      <td>0</td>\n",
              "      <td>0</td>\n",
              "      <td>0</td>\n",
              "      <td>3</td>\n",
              "      <td>11</td>\n",
              "      <td>0</td>\n",
              "    </tr>\n",
              "  </tbody>\n",
              "</table>\n",
              "</div>"
            ],
            "text/plain": [
              "       id  ano_nasc educacao  ... z_custo_contato  z_receita  resposta\n",
              "441  7495      1948      PhD  ...               3         11         0\n",
              "\n",
              "[1 rows x 29 columns]"
            ]
          },
          "metadata": {},
          "execution_count": 8
        }
      ]
    },
    {
      "cell_type": "markdown",
      "metadata": {
        "id": "NEQC748Of86a"
      },
      "source": [
        "**CRIANDO LISTAS PARA SUBSTITUIR OS VALORES EM INGLÊS DAS COLUNAS PARA PORTUGUÊS E TROCAR AS OPÇÕES DE 0 E 1 PARA SIM E NÃO**"
      ]
    },
    {
      "cell_type": "code",
      "metadata": {
        "id": "W3RYd-25-rhd"
      },
      "source": [
        "educacao_antigo = ['Graduation', 'PhD', 'Master', 'Basic', '2n Cycle']\n",
        "educacao_novo = ['graduacao', 'doutorado', 'mestrado', 'ensino_fundamental', 'ensino_medio']\n",
        "\n",
        "civil_antigo = ['Single', 'Together', 'Married', 'Divorced', 'Widow', 'Alone', 'Absurd', 'YOLO']\n",
        "civil_novo = ['solteiro', 'uniao_estavel', 'casado', 'divorciado', 'viuvo', np.NaN, np.NaN, np.NaN]\n",
        "\n",
        "cmp_antigo = [0, 1]\n",
        "cmp_novo = ['nao', 'sim']"
      ],
      "execution_count": null,
      "outputs": []
    },
    {
      "cell_type": "markdown",
      "metadata": {
        "id": "rykzu1J3gOuM"
      },
      "source": [
        "**SUBSTITUIÇÃO DOS DADOS, PELAS INFORMAÇÕES DAS LISTAS E CONVERSÃO DO CAMPO 'DATA_PRIMEIRA_COMPRA' PARA DATETIME**"
      ]
    },
    {
      "cell_type": "code",
      "metadata": {
        "colab": {
          "base_uri": "https://localhost:8080/",
          "height": 224
        },
        "id": "qUiZcGk0AqLg",
        "outputId": "1cef4c85-5fa2-45c5-a1ad-31bad1a14610"
      },
      "source": [
        "df2['educacao'] = df2['educacao'].replace(educacao_antigo, educacao_novo)\n",
        "df2['status_civil'] = df2['status_civil'].replace(civil_antigo, civil_novo)\n",
        "df2['oferta_aceito1'] = df2['oferta_aceito1'].replace(cmp_antigo, cmp_novo)\n",
        "df2['oferta_aceito2'] = df2['oferta_aceito2'].replace(cmp_antigo, cmp_novo)\n",
        "df2['oferta_aceito3'] = df2['oferta_aceito3'].replace(cmp_antigo, cmp_novo)\n",
        "df2['oferta_aceito4'] = df2['oferta_aceito4'].replace(cmp_antigo, cmp_novo)\n",
        "df2['oferta_aceito5'] = df2['oferta_aceito5'].replace(cmp_antigo, cmp_novo)\n",
        "df2['reclamacoes'] = df2['reclamacoes'].replace(cmp_antigo, cmp_novo)\n",
        "df2['resposta'] = df2['resposta'].replace(cmp_antigo, cmp_novo)\n",
        "df2['data_primeira_compra'] = pd.to_datetime(df2['data_primeira_compra'])\n",
        "df2.head()"
      ],
      "execution_count": null,
      "outputs": [
        {
          "output_type": "execute_result",
          "data": {
            "text/html": [
              "<div>\n",
              "<style scoped>\n",
              "    .dataframe tbody tr th:only-of-type {\n",
              "        vertical-align: middle;\n",
              "    }\n",
              "\n",
              "    .dataframe tbody tr th {\n",
              "        vertical-align: top;\n",
              "    }\n",
              "\n",
              "    .dataframe thead th {\n",
              "        text-align: right;\n",
              "    }\n",
              "</style>\n",
              "<table border=\"1\" class=\"dataframe\">\n",
              "  <thead>\n",
              "    <tr style=\"text-align: right;\">\n",
              "      <th></th>\n",
              "      <th>id</th>\n",
              "      <th>ano_nasc</th>\n",
              "      <th>educacao</th>\n",
              "      <th>status_civil</th>\n",
              "      <th>renda_anual</th>\n",
              "      <th>qtd_crianca</th>\n",
              "      <th>qtd_adolescente</th>\n",
              "      <th>data_primeira_compra</th>\n",
              "      <th>dias_ultima_compra</th>\n",
              "      <th>gasto_em_vinhos</th>\n",
              "      <th>gasto_em_frutas</th>\n",
              "      <th>gasto_em_carnes</th>\n",
              "      <th>gasto_em_peixes</th>\n",
              "      <th>gasto_em_doces</th>\n",
              "      <th>gasto_em_ouro</th>\n",
              "      <th>num_compras_desconto</th>\n",
              "      <th>num_compras_online</th>\n",
              "      <th>num_compras_catalogo</th>\n",
              "      <th>num_compras_loja</th>\n",
              "      <th>num_visitas_online_mensal</th>\n",
              "      <th>oferta_aceito3</th>\n",
              "      <th>oferta_aceito4</th>\n",
              "      <th>oferta_aceito5</th>\n",
              "      <th>oferta_aceito1</th>\n",
              "      <th>oferta_aceito2</th>\n",
              "      <th>reclamacoes</th>\n",
              "      <th>z_custo_contato</th>\n",
              "      <th>z_receita</th>\n",
              "      <th>resposta</th>\n",
              "    </tr>\n",
              "  </thead>\n",
              "  <tbody>\n",
              "    <tr>\n",
              "      <th>0</th>\n",
              "      <td>5524</td>\n",
              "      <td>1957</td>\n",
              "      <td>graduacao</td>\n",
              "      <td>solteiro</td>\n",
              "      <td>58138.0</td>\n",
              "      <td>0</td>\n",
              "      <td>0</td>\n",
              "      <td>2012-04-09</td>\n",
              "      <td>58</td>\n",
              "      <td>635</td>\n",
              "      <td>88</td>\n",
              "      <td>546</td>\n",
              "      <td>172</td>\n",
              "      <td>88</td>\n",
              "      <td>88</td>\n",
              "      <td>3</td>\n",
              "      <td>8</td>\n",
              "      <td>10</td>\n",
              "      <td>4</td>\n",
              "      <td>7</td>\n",
              "      <td>nao</td>\n",
              "      <td>nao</td>\n",
              "      <td>nao</td>\n",
              "      <td>nao</td>\n",
              "      <td>nao</td>\n",
              "      <td>nao</td>\n",
              "      <td>3</td>\n",
              "      <td>11</td>\n",
              "      <td>sim</td>\n",
              "    </tr>\n",
              "    <tr>\n",
              "      <th>1</th>\n",
              "      <td>2174</td>\n",
              "      <td>1954</td>\n",
              "      <td>graduacao</td>\n",
              "      <td>solteiro</td>\n",
              "      <td>46344.0</td>\n",
              "      <td>1</td>\n",
              "      <td>1</td>\n",
              "      <td>2014-08-03</td>\n",
              "      <td>38</td>\n",
              "      <td>11</td>\n",
              "      <td>1</td>\n",
              "      <td>6</td>\n",
              "      <td>2</td>\n",
              "      <td>1</td>\n",
              "      <td>6</td>\n",
              "      <td>2</td>\n",
              "      <td>1</td>\n",
              "      <td>1</td>\n",
              "      <td>2</td>\n",
              "      <td>5</td>\n",
              "      <td>nao</td>\n",
              "      <td>nao</td>\n",
              "      <td>nao</td>\n",
              "      <td>nao</td>\n",
              "      <td>nao</td>\n",
              "      <td>nao</td>\n",
              "      <td>3</td>\n",
              "      <td>11</td>\n",
              "      <td>nao</td>\n",
              "    </tr>\n",
              "    <tr>\n",
              "      <th>2</th>\n",
              "      <td>4141</td>\n",
              "      <td>1965</td>\n",
              "      <td>graduacao</td>\n",
              "      <td>uniao_estavel</td>\n",
              "      <td>71613.0</td>\n",
              "      <td>0</td>\n",
              "      <td>0</td>\n",
              "      <td>2013-08-21</td>\n",
              "      <td>26</td>\n",
              "      <td>426</td>\n",
              "      <td>49</td>\n",
              "      <td>127</td>\n",
              "      <td>111</td>\n",
              "      <td>21</td>\n",
              "      <td>42</td>\n",
              "      <td>1</td>\n",
              "      <td>8</td>\n",
              "      <td>2</td>\n",
              "      <td>10</td>\n",
              "      <td>4</td>\n",
              "      <td>nao</td>\n",
              "      <td>nao</td>\n",
              "      <td>nao</td>\n",
              "      <td>nao</td>\n",
              "      <td>nao</td>\n",
              "      <td>nao</td>\n",
              "      <td>3</td>\n",
              "      <td>11</td>\n",
              "      <td>nao</td>\n",
              "    </tr>\n",
              "    <tr>\n",
              "      <th>3</th>\n",
              "      <td>6182</td>\n",
              "      <td>1984</td>\n",
              "      <td>graduacao</td>\n",
              "      <td>uniao_estavel</td>\n",
              "      <td>26646.0</td>\n",
              "      <td>1</td>\n",
              "      <td>0</td>\n",
              "      <td>2014-10-02</td>\n",
              "      <td>26</td>\n",
              "      <td>11</td>\n",
              "      <td>4</td>\n",
              "      <td>20</td>\n",
              "      <td>10</td>\n",
              "      <td>3</td>\n",
              "      <td>5</td>\n",
              "      <td>2</td>\n",
              "      <td>2</td>\n",
              "      <td>0</td>\n",
              "      <td>4</td>\n",
              "      <td>6</td>\n",
              "      <td>nao</td>\n",
              "      <td>nao</td>\n",
              "      <td>nao</td>\n",
              "      <td>nao</td>\n",
              "      <td>nao</td>\n",
              "      <td>nao</td>\n",
              "      <td>3</td>\n",
              "      <td>11</td>\n",
              "      <td>nao</td>\n",
              "    </tr>\n",
              "    <tr>\n",
              "      <th>4</th>\n",
              "      <td>5324</td>\n",
              "      <td>1981</td>\n",
              "      <td>doutorado</td>\n",
              "      <td>casado</td>\n",
              "      <td>58293.0</td>\n",
              "      <td>1</td>\n",
              "      <td>0</td>\n",
              "      <td>2014-01-19</td>\n",
              "      <td>94</td>\n",
              "      <td>173</td>\n",
              "      <td>43</td>\n",
              "      <td>118</td>\n",
              "      <td>46</td>\n",
              "      <td>27</td>\n",
              "      <td>15</td>\n",
              "      <td>5</td>\n",
              "      <td>5</td>\n",
              "      <td>3</td>\n",
              "      <td>6</td>\n",
              "      <td>5</td>\n",
              "      <td>nao</td>\n",
              "      <td>nao</td>\n",
              "      <td>nao</td>\n",
              "      <td>nao</td>\n",
              "      <td>nao</td>\n",
              "      <td>nao</td>\n",
              "      <td>3</td>\n",
              "      <td>11</td>\n",
              "      <td>nao</td>\n",
              "    </tr>\n",
              "  </tbody>\n",
              "</table>\n",
              "</div>"
            ],
            "text/plain": [
              "     id  ano_nasc   educacao  ... z_custo_contato  z_receita  resposta\n",
              "0  5524      1957  graduacao  ...               3         11       sim\n",
              "1  2174      1954  graduacao  ...               3         11       nao\n",
              "2  4141      1965  graduacao  ...               3         11       nao\n",
              "3  6182      1984  graduacao  ...               3         11       nao\n",
              "4  5324      1981  doutorado  ...               3         11       nao\n",
              "\n",
              "[5 rows x 29 columns]"
            ]
          },
          "metadata": {},
          "execution_count": 10
        }
      ]
    },
    {
      "cell_type": "markdown",
      "metadata": {
        "id": "Ar2VevGagnnD"
      },
      "source": [
        "**VERIFICAÇÃO DOS DADOS NO FIM DA SEGUNDA ETAPA**"
      ]
    },
    {
      "cell_type": "code",
      "metadata": {
        "colab": {
          "base_uri": "https://localhost:8080/"
        },
        "id": "Z1yv9FEGCdYb",
        "outputId": "05b386ec-2978-43ee-a3d4-0e36bb65a7ab"
      },
      "source": [
        "df2.info()"
      ],
      "execution_count": null,
      "outputs": [
        {
          "output_type": "stream",
          "name": "stdout",
          "text": [
            "<class 'pandas.core.frame.DataFrame'>\n",
            "RangeIndex: 2240 entries, 0 to 2239\n",
            "Data columns (total 29 columns):\n",
            " #   Column                     Non-Null Count  Dtype         \n",
            "---  ------                     --------------  -----         \n",
            " 0   id                         2240 non-null   int64         \n",
            " 1   ano_nasc                   2240 non-null   int64         \n",
            " 2   educacao                   2240 non-null   object        \n",
            " 3   status_civil               2233 non-null   object        \n",
            " 4   renda_anual                2216 non-null   float64       \n",
            " 5   qtd_crianca                2240 non-null   int64         \n",
            " 6   qtd_adolescente            2240 non-null   int64         \n",
            " 7   data_primeira_compra       2240 non-null   datetime64[ns]\n",
            " 8   dias_ultima_compra         2240 non-null   int64         \n",
            " 9   gasto_em_vinhos            2240 non-null   int64         \n",
            " 10  gasto_em_frutas            2240 non-null   int64         \n",
            " 11  gasto_em_carnes            2240 non-null   int64         \n",
            " 12  gasto_em_peixes            2240 non-null   int64         \n",
            " 13  gasto_em_doces             2240 non-null   int64         \n",
            " 14  gasto_em_ouro              2240 non-null   int64         \n",
            " 15  num_compras_desconto       2240 non-null   int64         \n",
            " 16  num_compras_online         2240 non-null   int64         \n",
            " 17  num_compras_catalogo       2240 non-null   int64         \n",
            " 18  num_compras_loja           2240 non-null   int64         \n",
            " 19  num_visitas_online_mensal  2240 non-null   int64         \n",
            " 20  oferta_aceito3             2240 non-null   object        \n",
            " 21  oferta_aceito4             2240 non-null   object        \n",
            " 22  oferta_aceito5             2240 non-null   object        \n",
            " 23  oferta_aceito1             2240 non-null   object        \n",
            " 24  oferta_aceito2             2240 non-null   object        \n",
            " 25  reclamacoes                2240 non-null   object        \n",
            " 26  z_custo_contato            2240 non-null   int64         \n",
            " 27  z_receita                  2240 non-null   int64         \n",
            " 28  resposta                   2240 non-null   object        \n",
            "dtypes: datetime64[ns](1), float64(1), int64(18), object(9)\n",
            "memory usage: 507.6+ KB\n"
          ]
        }
      ]
    },
    {
      "cell_type": "markdown",
      "metadata": {
        "id": "98Jh3HZMlVck"
      },
      "source": [
        "# **3. REMOÇÃO DE NAN**"
      ]
    },
    {
      "cell_type": "code",
      "metadata": {
        "id": "OzrQVXeRJNMx"
      },
      "source": [
        "df3 = df2.copy()"
      ],
      "execution_count": null,
      "outputs": []
    },
    {
      "cell_type": "code",
      "metadata": {
        "id": "n9bMVwY0gulz"
      },
      "source": [
        "df3.dropna(subset=['status_civil'], inplace = True)\n",
        "df3.dropna(subset=['renda_anual'], inplace = True)"
      ],
      "execution_count": null,
      "outputs": []
    },
    {
      "cell_type": "code",
      "metadata": {
        "colab": {
          "base_uri": "https://localhost:8080/"
        },
        "id": "d2ErhSDblyuR",
        "outputId": "b0f1414a-9cb6-48e6-9111-58f6a97869ec"
      },
      "source": [
        "df3['z_custo_contato'].unique()"
      ],
      "execution_count": null,
      "outputs": [
        {
          "output_type": "execute_result",
          "data": {
            "text/plain": [
              "array([3])"
            ]
          },
          "metadata": {},
          "execution_count": 14
        }
      ]
    },
    {
      "cell_type": "code",
      "metadata": {
        "colab": {
          "base_uri": "https://localhost:8080/"
        },
        "id": "tgJkuxsgl5sK",
        "outputId": "3c145713-5fb6-4fb5-8928-04da945d90e7"
      },
      "source": [
        "df3['z_receita'].unique()"
      ],
      "execution_count": null,
      "outputs": [
        {
          "output_type": "execute_result",
          "data": {
            "text/plain": [
              "array([11])"
            ]
          },
          "metadata": {},
          "execution_count": 15
        }
      ]
    },
    {
      "cell_type": "markdown",
      "metadata": {
        "id": "rdfJscsamOMt"
      },
      "source": [
        "**COMO AS COLUNAS \"Z_CUSTO_CONTATO\" E \"Z_RECEITA\" TINHAM EXCLUSIVAMENTE 1 VALOR EM CADA UMA, FORAM REMOVIDAS, POIS INTERPRETEI QUE NÃO HÁ SENTIDO EM MANTER UMA INFORMAÇÃO QUE É EXATAMENTE A MESMA PARA TODOS OS DADOS**"
      ]
    },
    {
      "cell_type": "code",
      "metadata": {
        "id": "2zOFFTrImDAE"
      },
      "source": [
        "df3.drop(['z_custo_contato', 'z_receita'], axis=1, inplace=True)"
      ],
      "execution_count": null,
      "outputs": []
    },
    {
      "cell_type": "markdown",
      "metadata": {
        "id": "ljBP4sPaxY7L"
      },
      "source": [
        "**REMOÇÃO DAQUELES QUE NASCERAM ANTES DE 1914**"
      ]
    },
    {
      "cell_type": "code",
      "metadata": {
        "colab": {
          "base_uri": "https://localhost:8080/",
          "height": 162
        },
        "id": "VkHi2Jo8_KcL",
        "outputId": "3026c466-71df-4d54-a9bd-bacb2332655f"
      },
      "source": [
        "df3[df3['ano_nasc'] < 1914]"
      ],
      "execution_count": null,
      "outputs": [
        {
          "output_type": "execute_result",
          "data": {
            "text/html": [
              "<div>\n",
              "<style scoped>\n",
              "    .dataframe tbody tr th:only-of-type {\n",
              "        vertical-align: middle;\n",
              "    }\n",
              "\n",
              "    .dataframe tbody tr th {\n",
              "        vertical-align: top;\n",
              "    }\n",
              "\n",
              "    .dataframe thead th {\n",
              "        text-align: right;\n",
              "    }\n",
              "</style>\n",
              "<table border=\"1\" class=\"dataframe\">\n",
              "  <thead>\n",
              "    <tr style=\"text-align: right;\">\n",
              "      <th></th>\n",
              "      <th>id</th>\n",
              "      <th>ano_nasc</th>\n",
              "      <th>educacao</th>\n",
              "      <th>status_civil</th>\n",
              "      <th>renda_anual</th>\n",
              "      <th>qtd_crianca</th>\n",
              "      <th>qtd_adolescente</th>\n",
              "      <th>data_primeira_compra</th>\n",
              "      <th>dias_ultima_compra</th>\n",
              "      <th>gasto_em_vinhos</th>\n",
              "      <th>gasto_em_frutas</th>\n",
              "      <th>gasto_em_carnes</th>\n",
              "      <th>gasto_em_peixes</th>\n",
              "      <th>gasto_em_doces</th>\n",
              "      <th>gasto_em_ouro</th>\n",
              "      <th>num_compras_desconto</th>\n",
              "      <th>num_compras_online</th>\n",
              "      <th>num_compras_catalogo</th>\n",
              "      <th>num_compras_loja</th>\n",
              "      <th>num_visitas_online_mensal</th>\n",
              "      <th>oferta_aceito3</th>\n",
              "      <th>oferta_aceito4</th>\n",
              "      <th>oferta_aceito5</th>\n",
              "      <th>oferta_aceito1</th>\n",
              "      <th>oferta_aceito2</th>\n",
              "      <th>reclamacoes</th>\n",
              "      <th>resposta</th>\n",
              "    </tr>\n",
              "  </thead>\n",
              "  <tbody>\n",
              "    <tr>\n",
              "      <th>192</th>\n",
              "      <td>7829</td>\n",
              "      <td>1900</td>\n",
              "      <td>ensino_medio</td>\n",
              "      <td>divorciado</td>\n",
              "      <td>36640.0</td>\n",
              "      <td>1</td>\n",
              "      <td>0</td>\n",
              "      <td>2013-09-26</td>\n",
              "      <td>99</td>\n",
              "      <td>15</td>\n",
              "      <td>6</td>\n",
              "      <td>8</td>\n",
              "      <td>7</td>\n",
              "      <td>4</td>\n",
              "      <td>25</td>\n",
              "      <td>1</td>\n",
              "      <td>2</td>\n",
              "      <td>1</td>\n",
              "      <td>2</td>\n",
              "      <td>5</td>\n",
              "      <td>nao</td>\n",
              "      <td>nao</td>\n",
              "      <td>nao</td>\n",
              "      <td>nao</td>\n",
              "      <td>nao</td>\n",
              "      <td>sim</td>\n",
              "      <td>nao</td>\n",
              "    </tr>\n",
              "    <tr>\n",
              "      <th>239</th>\n",
              "      <td>11004</td>\n",
              "      <td>1893</td>\n",
              "      <td>ensino_medio</td>\n",
              "      <td>solteiro</td>\n",
              "      <td>60182.0</td>\n",
              "      <td>0</td>\n",
              "      <td>1</td>\n",
              "      <td>2014-05-17</td>\n",
              "      <td>23</td>\n",
              "      <td>8</td>\n",
              "      <td>0</td>\n",
              "      <td>5</td>\n",
              "      <td>7</td>\n",
              "      <td>0</td>\n",
              "      <td>2</td>\n",
              "      <td>1</td>\n",
              "      <td>1</td>\n",
              "      <td>0</td>\n",
              "      <td>2</td>\n",
              "      <td>4</td>\n",
              "      <td>nao</td>\n",
              "      <td>nao</td>\n",
              "      <td>nao</td>\n",
              "      <td>nao</td>\n",
              "      <td>nao</td>\n",
              "      <td>nao</td>\n",
              "      <td>nao</td>\n",
              "    </tr>\n",
              "    <tr>\n",
              "      <th>339</th>\n",
              "      <td>1150</td>\n",
              "      <td>1899</td>\n",
              "      <td>doutorado</td>\n",
              "      <td>uniao_estavel</td>\n",
              "      <td>83532.0</td>\n",
              "      <td>0</td>\n",
              "      <td>0</td>\n",
              "      <td>2013-09-26</td>\n",
              "      <td>36</td>\n",
              "      <td>755</td>\n",
              "      <td>144</td>\n",
              "      <td>562</td>\n",
              "      <td>104</td>\n",
              "      <td>64</td>\n",
              "      <td>224</td>\n",
              "      <td>1</td>\n",
              "      <td>4</td>\n",
              "      <td>6</td>\n",
              "      <td>4</td>\n",
              "      <td>1</td>\n",
              "      <td>nao</td>\n",
              "      <td>nao</td>\n",
              "      <td>sim</td>\n",
              "      <td>nao</td>\n",
              "      <td>nao</td>\n",
              "      <td>nao</td>\n",
              "      <td>nao</td>\n",
              "    </tr>\n",
              "  </tbody>\n",
              "</table>\n",
              "</div>"
            ],
            "text/plain": [
              "        id  ano_nasc      educacao  ... oferta_aceito2  reclamacoes  resposta\n",
              "192   7829      1900  ensino_medio  ...            nao          sim       nao\n",
              "239  11004      1893  ensino_medio  ...            nao          nao       nao\n",
              "339   1150      1899     doutorado  ...            nao          nao       nao\n",
              "\n",
              "[3 rows x 27 columns]"
            ]
          },
          "metadata": {},
          "execution_count": 17
        }
      ]
    },
    {
      "cell_type": "code",
      "metadata": {
        "id": "TxM0wrQd9y_8"
      },
      "source": [
        "df3.drop([192, 239, 339], inplace=True)"
      ],
      "execution_count": null,
      "outputs": []
    },
    {
      "cell_type": "markdown",
      "metadata": {
        "id": "pW9R-lvHljrP"
      },
      "source": [
        "**DESCRIÇÃO FINAL DOS DADOS**"
      ]
    },
    {
      "cell_type": "code",
      "metadata": {
        "colab": {
          "base_uri": "https://localhost:8080/"
        },
        "id": "2lMY588Dld4d",
        "outputId": "fc951788-e789-4fc1-a7dc-eabf4c486a07"
      },
      "source": [
        "df3.info()"
      ],
      "execution_count": null,
      "outputs": [
        {
          "output_type": "stream",
          "name": "stdout",
          "text": [
            "<class 'pandas.core.frame.DataFrame'>\n",
            "Int64Index: 2206 entries, 0 to 2239\n",
            "Data columns (total 27 columns):\n",
            " #   Column                     Non-Null Count  Dtype         \n",
            "---  ------                     --------------  -----         \n",
            " 0   id                         2206 non-null   int64         \n",
            " 1   ano_nasc                   2206 non-null   int64         \n",
            " 2   educacao                   2206 non-null   object        \n",
            " 3   status_civil               2206 non-null   object        \n",
            " 4   renda_anual                2206 non-null   float64       \n",
            " 5   qtd_crianca                2206 non-null   int64         \n",
            " 6   qtd_adolescente            2206 non-null   int64         \n",
            " 7   data_primeira_compra       2206 non-null   datetime64[ns]\n",
            " 8   dias_ultima_compra         2206 non-null   int64         \n",
            " 9   gasto_em_vinhos            2206 non-null   int64         \n",
            " 10  gasto_em_frutas            2206 non-null   int64         \n",
            " 11  gasto_em_carnes            2206 non-null   int64         \n",
            " 12  gasto_em_peixes            2206 non-null   int64         \n",
            " 13  gasto_em_doces             2206 non-null   int64         \n",
            " 14  gasto_em_ouro              2206 non-null   int64         \n",
            " 15  num_compras_desconto       2206 non-null   int64         \n",
            " 16  num_compras_online         2206 non-null   int64         \n",
            " 17  num_compras_catalogo       2206 non-null   int64         \n",
            " 18  num_compras_loja           2206 non-null   int64         \n",
            " 19  num_visitas_online_mensal  2206 non-null   int64         \n",
            " 20  oferta_aceito3             2206 non-null   object        \n",
            " 21  oferta_aceito4             2206 non-null   object        \n",
            " 22  oferta_aceito5             2206 non-null   object        \n",
            " 23  oferta_aceito1             2206 non-null   object        \n",
            " 24  oferta_aceito2             2206 non-null   object        \n",
            " 25  reclamacoes                2206 non-null   object        \n",
            " 26  resposta                   2206 non-null   object        \n",
            "dtypes: datetime64[ns](1), float64(1), int64(16), object(9)\n",
            "memory usage: 482.6+ KB\n"
          ]
        }
      ]
    },
    {
      "cell_type": "markdown",
      "metadata": {
        "id": "jgLESV5nntHA"
      },
      "source": [
        "# **4. SALVANDO ARQUIVO NO DRIVE**"
      ]
    },
    {
      "cell_type": "markdown",
      "metadata": {
        "id": "xKxVyU1OqTDd"
      },
      "source": [
        "**SALVANDO NO DRIVE**"
      ]
    },
    {
      "cell_type": "code",
      "metadata": {
        "id": "cqOEEy8dhk2R"
      },
      "source": [
        "#df3.to_csv('/content/drive/MyDrive/Soul_Code_Academy/repositorio_mini_projeto/marketing_campaign_tratado_pandas.csv', sep=',', index=False)"
      ],
      "execution_count": null,
      "outputs": []
    },
    {
      "cell_type": "markdown",
      "metadata": {
        "id": "lYypBNgxqV6T"
      },
      "source": [
        "**SALVANDO NO GOOGLE CLOUD STORAGE**"
      ]
    },
    {
      "cell_type": "code",
      "metadata": {
        "id": "tvX6pwvmovcS"
      },
      "source": [
        "#from google.cloud import storage\n",
        "#import os\n",
        "#import pandas as pd\n",
        "#\n",
        "## Only need this if you're running this code locally.\n",
        "#os.environ['GOOGLE_APPLICATION_CREDENTIALS'] = '/content/drive/MyDrive/Soul_Code_Academy/repositorio_mini_projeto/mini-projeto-final-soul-victor-9eba120bf86d.json'\n",
        "#\n",
        "#client = storage.Client()\n",
        "#bucket = client.get_bucket('bucket-mini-projeto-final-soulcode-victor')\n",
        "#    \n",
        "#bucket.blob('arquivo_tratado_pandas/marketing_campaign_tratado_pandas.csv').upload_from_string(df3.to_csv(sep=',', index=False), 'text/csv')"
      ],
      "execution_count": null,
      "outputs": []
    },
    {
      "cell_type": "code",
      "metadata": {
        "id": "gS8CHpWBqMYf"
      },
      "source": [
        ""
      ],
      "execution_count": null,
      "outputs": []
    }
  ]
}